{
  "nbformat": 4,
  "nbformat_minor": 0,
  "metadata": {
    "colab": {
      "provenance": []
    },
    "kernelspec": {
      "name": "python3",
      "display_name": "Python 3"
    },
    "language_info": {
      "name": "python"
    }
  },
  "cells": [
    {
      "cell_type": "code",
      "execution_count": 4,
      "metadata": {
        "id": "-amnk2h0Tsg2"
      },
      "outputs": [],
      "source": [
        "# Import necessary libraries\n",
        "import pandas as pd\n",
        "from sklearn.model_selection import train_test_split\n",
        "from sklearn.tree import DecisionTreeRegressor\n",
        "from sklearn.metrics import mean_squared_error\n",
        "# Load the dataset\n",
        "df = pd.read_csv(\"E-commerce Customer Behavior - Sheet1.csv\")"
      ]
    },
    {
      "cell_type": "code",
      "source": [
        "# Print the column names to verify\n",
        "print(df.columns)"
      ],
      "metadata": {
        "colab": {
          "base_uri": "https://localhost:8080/"
        },
        "id": "OnuWnqkaVfNT",
        "outputId": "af9c8a6b-a8ee-4d6c-d561-11814a2bb98c"
      },
      "execution_count": 6,
      "outputs": [
        {
          "output_type": "stream",
          "name": "stdout",
          "text": [
            "Index(['Customer ID', 'Age', 'Total Spend', 'Items Purchased',\n",
            "       'Average Rating', 'Days Since Last Purchase', 'Gender_Male',\n",
            "       'Location_Houston', 'Location_Los Angeles', 'Location_Miami',\n",
            "       'Location_New York', 'Location_San Francisco', 'Membership Type_Gold',\n",
            "       'Membership Type_Silver', 'Discount Applied_True',\n",
            "       'Satisfaction Level_Satisfied', 'Satisfaction Level_Unsatisfied'],\n",
            "      dtype='object')\n"
          ]
        }
      ]
    },
    {
      "cell_type": "code",
      "source": [
        "# Select features and target variable\n",
        "features = ['Age', 'Items Purchased', 'Average Rating', 'Days Since Last Purchase',\n",
        "            'Gender_Male', 'Location_Houston', 'Location_Los Angeles', 'Location_Miami',\n",
        "            'Location_New York', 'Location_San Francisco', 'Membership Type_Gold',\n",
        "            'Membership Type_Silver', 'Discount Applied_True',\n",
        "            'Satisfaction Level_Satisfied', 'Satisfaction Level_Unsatisfied']\n",
        "target = 'Total Spend'\n",
        "\n",
        "# Split the data into training and testing sets\n",
        "X_train, X_test, y_train, y_test = train_test_split(df[features], df[target], test_size=0.2, random_state=42)\n",
        "\n",
        "# Create a Decision Tree model\n",
        "model = DecisionTreeRegressor()\n",
        "model.fit(X_train, y_train)\n",
        "\n",
        "# Make predictions on the test set\n",
        "predictions = model.predict(X_test)\n",
        "\n",
        "# Evaluate the model\n",
        "mse = mean_squared_error(y_test, predictions)\n",
        "print(f'Mean Squared Error: {mse}')\n"
      ],
      "metadata": {
        "colab": {
          "base_uri": "https://localhost:8080/"
        },
        "id": "-24jrJ89WZWc",
        "outputId": "be5a8c37-fcd2-4eb6-c530-6b4bb190c966"
      },
      "execution_count": 8,
      "outputs": [
        {
          "output_type": "stream",
          "name": "stdout",
          "text": [
            "Mean Squared Error: 115.46765018176552\n"
          ]
        }
      ]
    },
    {
      "cell_type": "code",
      "source": [
        "from sklearn.ensemble import RandomForestRegressor\n",
        "from sklearn.metrics import mean_squared_error\n",
        "\n",
        "# Create a Random Forest model\n",
        "rf_model = RandomForestRegressor(n_estimators=100, random_state=42)\n",
        "\n",
        "# Fit the model on the training data\n",
        "rf_model.fit(X_train, y_train)\n",
        "\n",
        "# Make predictions on the test set\n",
        "rf_predictions = rf_model.predict(X_test)\n",
        "\n",
        "# Evaluate the Random Forest model\n",
        "rf_mse = mean_squared_error(y_test, rf_predictions)\n",
        "print(f'Random Forest Mean Squared Error: {rf_mse}')\n"
      ],
      "metadata": {
        "colab": {
          "base_uri": "https://localhost:8080/"
        },
        "id": "8Qtn1wTdXYhH",
        "outputId": "ddf91fc0-48bc-437a-b0f5-7a70ec4794c4"
      },
      "execution_count": 9,
      "outputs": [
        {
          "output_type": "stream",
          "name": "stdout",
          "text": [
            "Random Forest Mean Squared Error: 84.43858483475903\n"
          ]
        }
      ]
    },
    {
      "cell_type": "code",
      "source": [
        "# Get feature importances from the trained Random Forest model\n",
        "feature_importances = model.feature_importances_\n",
        "\n",
        "# Create a DataFrame to display feature names and their importances\n",
        "feature_importance_df = pd.DataFrame({'Feature': X_train.columns, 'Importance': feature_importances})\n",
        "\n",
        "# Sort the DataFrame by importance in descending order\n",
        "feature_importance_df = feature_importance_df.sort_values(by='Importance', ascending=False)\n",
        "\n",
        "# Display the feature importances\n",
        "print(feature_importance_df)\n"
      ],
      "metadata": {
        "colab": {
          "base_uri": "https://localhost:8080/"
        },
        "id": "wCnfhIosYdio",
        "outputId": "70618fbb-29ad-415a-b51f-9fff3887be1c"
      },
      "execution_count": 10,
      "outputs": [
        {
          "output_type": "stream",
          "name": "stdout",
          "text": [
            "                           Feature  Importance\n",
            "10            Membership Type_Gold    0.831445\n",
            "2                   Average Rating    0.100151\n",
            "9           Location_San Francisco    0.054580\n",
            "6             Location_Los Angeles    0.008298\n",
            "3         Days Since Last Purchase    0.002718\n",
            "1                  Items Purchased    0.002242\n",
            "0                              Age    0.000567\n",
            "4                      Gender_Male    0.000000\n",
            "5                 Location_Houston    0.000000\n",
            "7                   Location_Miami    0.000000\n",
            "8                Location_New York    0.000000\n",
            "11          Membership Type_Silver    0.000000\n",
            "12           Discount Applied_True    0.000000\n",
            "13    Satisfaction Level_Satisfied    0.000000\n",
            "14  Satisfaction Level_Unsatisfied    0.000000\n"
          ]
        }
      ]
    }
  ]
}